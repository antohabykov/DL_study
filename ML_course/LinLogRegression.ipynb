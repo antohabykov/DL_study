{
 "cells": [
  {
   "cell_type": "code",
   "execution_count": 1,
   "id": "9dbf8310",
   "metadata": {},
   "outputs": [],
   "source": [
    "import pandas as pd\n",
    "import numpy as np\n",
    "import torch\n",
    "from sklearn.preprocessing import StandardScaler\n",
    "from sklearn.model_selection import train_test_split\n",
    "from sklearn import metrics \n",
    "import matplotlib.pyplot as plt\n",
    "import pylab as pl\n",
    "import itertools, functools\n",
    "import random\n",
    "\n",
    "import warnings \n",
    "warnings.filterwarnings('ignore')"
   ]
  },
  {
   "cell_type": "markdown",
   "id": "4595c916",
   "metadata": {},
   "source": [
    "# It is a learning notebook for learning Linear and Logistic regressions. Its have written manualy via Numpy and Torch"
   ]
  },
  {
   "cell_type": "code",
   "execution_count": 2,
   "id": "42f8f164",
   "metadata": {},
   "outputs": [],
   "source": [
    "class LinLogRegression:\n",
    "    \"\"\"\n",
    "    Class for both Linear and Logistic Regressions. It's needed to choose mode - \"lin\" or \"log\".\n",
    "    Linear Regression: multipule regressor with L2-regularization.\n",
    "        Data: X - standart scaled data with shape (n_features, batch_size), y - target with shape (batch_size)\n",
    "        Predict: REGRESSOR, float64\n",
    "    LogistiC regression: binary classificator with L2-regularization.\n",
    "        Data: X - data with shape (1+n_features, batch_size), bias should be included, y - target with shape (batch_size)\n",
    "        Predict: CLASSIFICATION, bool \n",
    "        \n",
    "    \"\"\"  \n",
    "    def __init__(self, X, y, mode=None):\n",
    "        if mode:\n",
    "            self.mode = mode\n",
    "        else:\n",
    "            raise ValueError('Choose \"lin\" or \"log\" mode')\n",
    "        self.n_features, self.batch_size = X.shape\n",
    "        self.X = X\n",
    "        self.y = y\n",
    "\n",
    "        self.W = np.array([random.uniform(-1, 1) for i in range(self.batch_size)])\n",
    "        self.b = 1 \n",
    "           \n",
    "    #Sigmoid method, log mode\n",
    "    def sigmoid(self, X):\n",
    "        z = np.dot(X, self.W)\n",
    "        return 1 / (1 + np.exp(-z))\n",
    "    \n",
    "    def fit(self, lr=0.01, theta=0.01, epochs=100):\n",
    "        cost_list = [0] * epochs\n",
    "        self.theta = theta\n",
    "        \n",
    "        for epoch in range(epochs):\n",
    "            if self.mode == \"log\":\n",
    "                #forward\n",
    "                sigma = self.sigmoid(self.X)\n",
    "                loss = sigma - self.y\n",
    "                #backpropagation\n",
    "                dW = np.dot(self.X.T, loss) + self.theta*self.W / self.batch_size \n",
    "                self.W -= lr * dW \n",
    "                #logistic loss with +1 and 0 classes\n",
    "                cost = (-self.y * np.log(sigma) - (1 - self.y) * np.log(1 - sigma)).mean() + ((self.theta/2) * self.W**2).mean() \n",
    "            else:\n",
    "                #forward\n",
    "                y_pred = self.predict(self.X)\n",
    "                loss = y_pred - self.y\n",
    "                #backpropagation\n",
    "                dW = (2 * (np.dot(self.X.T, loss) + (2 * self.theta * self.W))) / self.batch_size\n",
    "                db = 2 * np.sum(loss) / self.batch_size\n",
    "                self.W -= lr * dW\n",
    "                self.b -= lr * db\n",
    "                #MSE\n",
    "                cost = np.sum((((self.X.dot(self.W) + self.b) - self.y) ** 2) / (2*self.batch_size)) \n",
    "                \n",
    "            cost_list[epoch] = cost\n",
    "  \n",
    "        return cost_list\n",
    "    \n",
    "    def get_weights(self):\n",
    "        if self.mode == \"log\":            \n",
    "            return self.W[1:], self.W[0]\n",
    "        else:\n",
    "            return self.W, self.b\n",
    "    \n",
    "    def predict(self, X, treshold=0.5):\n",
    "        if self.mode == \"log\":\n",
    "            result = self.sigmoid(X)\n",
    "            result = result >= treshold\n",
    "            y_pred = np.zeros(result.shape[0])\n",
    "            for i in range(len(y_pred)):\n",
    "                if result[i] == True: \n",
    "                    y_pred[i] = 1\n",
    "                else:\n",
    "                    continue      \n",
    "            return y_pred\n",
    "        else:\n",
    "            return X.dot(self.W) + self.b"
   ]
  },
  {
   "cell_type": "markdown",
   "id": "32a81bc8",
   "metadata": {},
   "source": [
    "# Let's test logistic part of class!"
   ]
  },
  {
   "cell_type": "markdown",
   "id": "791de324",
   "metadata": {},
   "source": [
    "Here we use dataset with tests of microchips from Anrew Ng's course"
   ]
  },
  {
   "cell_type": "code",
   "execution_count": 3,
   "id": "cb821542",
   "metadata": {},
   "outputs": [
    {
     "name": "stdout",
     "output_type": "stream",
     "text": [
      "<class 'pandas.core.frame.DataFrame'>\n",
      "RangeIndex: 118 entries, 0 to 117\n",
      "Data columns (total 3 columns):\n",
      " #   Column    Non-Null Count  Dtype  \n",
      "---  ------    --------------  -----  \n",
      " 0   test1     118 non-null    float64\n",
      " 1   test2     118 non-null    float64\n",
      " 2   released  118 non-null    int64  \n",
      "dtypes: float64(2), int64(1)\n",
      "memory usage: 2.9 KB\n"
     ]
    },
    {
     "data": {
      "text/html": [
       "<div>\n",
       "<style scoped>\n",
       "    .dataframe tbody tr th:only-of-type {\n",
       "        vertical-align: middle;\n",
       "    }\n",
       "\n",
       "    .dataframe tbody tr th {\n",
       "        vertical-align: top;\n",
       "    }\n",
       "\n",
       "    .dataframe thead th {\n",
       "        text-align: right;\n",
       "    }\n",
       "</style>\n",
       "<table border=\"1\" class=\"dataframe\">\n",
       "  <thead>\n",
       "    <tr style=\"text-align: right;\">\n",
       "      <th></th>\n",
       "      <th>test1</th>\n",
       "      <th>test2</th>\n",
       "      <th>released</th>\n",
       "    </tr>\n",
       "  </thead>\n",
       "  <tbody>\n",
       "    <tr>\n",
       "      <th>0</th>\n",
       "      <td>0.051267</td>\n",
       "      <td>0.69956</td>\n",
       "      <td>1</td>\n",
       "    </tr>\n",
       "    <tr>\n",
       "      <th>1</th>\n",
       "      <td>-0.092742</td>\n",
       "      <td>0.68494</td>\n",
       "      <td>1</td>\n",
       "    </tr>\n",
       "    <tr>\n",
       "      <th>2</th>\n",
       "      <td>-0.213710</td>\n",
       "      <td>0.69225</td>\n",
       "      <td>1</td>\n",
       "    </tr>\n",
       "    <tr>\n",
       "      <th>3</th>\n",
       "      <td>-0.375000</td>\n",
       "      <td>0.50219</td>\n",
       "      <td>1</td>\n",
       "    </tr>\n",
       "    <tr>\n",
       "      <th>4</th>\n",
       "      <td>-0.513250</td>\n",
       "      <td>0.46564</td>\n",
       "      <td>1</td>\n",
       "    </tr>\n",
       "  </tbody>\n",
       "</table>\n",
       "</div>"
      ],
      "text/plain": [
       "      test1    test2  released\n",
       "0  0.051267  0.69956         1\n",
       "1 -0.092742  0.68494         1\n",
       "2 -0.213710  0.69225         1\n",
       "3 -0.375000  0.50219         1\n",
       "4 -0.513250  0.46564         1"
      ]
     },
     "execution_count": 3,
     "metadata": {},
     "output_type": "execute_result"
    }
   ],
   "source": [
    "data = pd.read_csv('.data/microchip_tests.txt',\n",
    "header=None, names = ('test1','test2','released'))\n",
    "\n",
    "X_log = data.iloc[:,:2].values\n",
    "y_log = data.iloc[:,2].values\n",
    "\n",
    "data.info()\n",
    "data.head()"
   ]
  },
  {
   "cell_type": "markdown",
   "id": "eda897fd",
   "metadata": {},
   "source": [
    "And now let's look at data vizualization"
   ]
  },
  {
   "cell_type": "code",
   "execution_count": 4,
   "id": "1302f7b0",
   "metadata": {},
   "outputs": [
    {
     "data": {
      "image/png": "[encoded data removed]",
      "text/plain": [
       "<Figure size 1080x504 with 1 Axes>"
      ]
     },
     "metadata": {
      "needs_background": "light"
     },
     "output_type": "display_data"
    }
   ],
   "source": [
    "plt.figure(figsize=(15, 7))\n",
    "\n",
    "plt.scatter(X_log[y_log == 1, 0], X_log[y_log == 1, 1], s=100, c='#32CD32', label='Released')\n",
    "plt.scatter(X_log[y_log == 0, 0], X_log[y_log == 0, 1], s=100, c='grey', label='Wasted')\n",
    "\n",
    "plt.xlabel(\"Test 1\", fontsize=16)\n",
    "plt.ylabel(\"Test 2\", fontsize=16)\n",
    "plt.title('2 tests of microchips', fontsize=20)\n",
    "plt.tick_params(axis='both', which='major', labelsize=16)\n",
    "plt.legend(fontsize=16)\n",
    "\n",
    "plt.show()"
   ]
  },
  {
   "cell_type": "markdown",
   "id": "18778ace",
   "metadata": {},
   "source": [
    "Theare only two features, so we use custom Polynomial Features class to produce more features!"
   ]
  },
  {
   "cell_type": "code",
   "execution_count": 5,
   "id": "35708c20",
   "metadata": {},
   "outputs": [],
   "source": [
    "class PolynomialFeatures():\n",
    "    \n",
    "    def __init__(self, degree=2):\n",
    "        self.degree = degree\n",
    "        \n",
    "    def n_features(self, X):\n",
    "        return (self.degree+1)**X[0].shape[0]\n",
    "        \n",
    "    def fit_transform(self, X):\n",
    "        result = np.zeros((X.shape[0], self.n_features(X)))\n",
    "        for k, i in enumerate(X): #[x1, x2]\n",
    "            before_comb = []\n",
    "            for j in i: #x1\n",
    "                current = []\n",
    "                for n in range(self.degree+1):\n",
    "                    current.append(j**n)\n",
    "                before_comb.append(current)\n",
    "            one_line_combinations = list(itertools.product(*before_comb))\n",
    "            one_line = np.array([functools.reduce(lambda a, b : a * b, lst) for lst in one_line_combinations])\n",
    "            result[k] += one_line\n",
    "        return result        "
   ]
  },
  {
   "cell_type": "code",
   "execution_count": 6,
   "id": "4b7f261e",
   "metadata": {
    "scrolled": false
   },
   "outputs": [
    {
     "name": "stdout",
     "output_type": "stream",
     "text": [
      "accuracy -> 0.8389830508474576\n"
     ]
    }
   ],
   "source": [
    "poly = PolynomialFeatures(degree=9)\n",
    "X_log_poly = poly.fit_transform(X_log)\n",
    "\n",
    "classificator = LinLogRegression(X_log_poly, y_log, mode='log')\n",
    "cost_list = classificator.fit(0.1, 0.001, 1000)\n",
    "\n",
    "y_log_pred = classificator.predict(X_log_poly)\n",
    "\n",
    "print('accuracy -> {}'.format(sum(y_log_pred == y_log) / y_log.shape[0]))"
   ]
  },
  {
   "cell_type": "markdown",
   "id": "278e5b37",
   "metadata": {},
   "source": [
    "It works. Bellow we are going to find the best hyperparametrs via Custom Grid Search"
   ]
  },
  {
   "cell_type": "code",
   "execution_count": 7,
   "id": "0d16674e",
   "metadata": {
    "scrolled": true
   },
   "outputs": [
    {
     "name": "stdout",
     "output_type": "stream",
     "text": [
      "Best accuracy is 0.856, best degree for PolyFeatures is 4, learning rate: 0.01,\n",
      "thetha for L2-regularization: 0.001 and epochs are 2000\n"
     ]
    }
   ],
   "source": [
    "params = {'lr': [0.01, 0.001], 'theta': [0.01, 0.001, 0.0001], \n",
    "          'epochs': [1000, 2000, 5000, 10000], 'degree': [2, 4, 8, 10]}\n",
    "best_score = 0\n",
    "best_classificator = None\n",
    "best_cost_list = None\n",
    "for i in range(30):\n",
    "    current_params = [random.choice(params[param]) for param in params.keys()]\n",
    "    \n",
    "    poly = PolynomialFeatures(degree=current_params[3])\n",
    "    X_log_poly = poly.fit_transform(X_log)\n",
    "\n",
    "    classificator = LinLogRegression(X_log_poly, y_log, mode='log')\n",
    "    cost_list = classificator.fit(current_params[0], current_params[1], current_params[2])\n",
    "\n",
    "    y_log_pred = classificator.predict(X_log_poly)\n",
    "    accuracy = sum(y_log_pred == y_log) / y_log.shape[0]\n",
    "    \n",
    "    if accuracy > best_score:\n",
    "        best_score = accuracy\n",
    "        best_params_log = current_params\n",
    "        best_classificator = classificator\n",
    "        best_cost_list =  cost_list\n",
    "\n",
    "print(f\"Best accuracy is {round(best_score, 3)}, best degree for PolyFeatures is {best_params_log[3]},\\\n",
    " learning rate: {best_params_log[0]},\\nthetha for L2-regularization: {best_params_log[1]} and epochs are {best_params_log[2]}\")"
   ]
  },
  {
   "cell_type": "code",
   "execution_count": 8,
   "id": "88bd6e0e",
   "metadata": {
    "scrolled": false
   },
   "outputs": [
    {
     "data": {
      "image/png": "[encoded data removed]",
      "text/plain": [
       "<Figure size 1080x504 with 1 Axes>"
      ]
     },
     "metadata": {
      "needs_background": "light"
     },
     "output_type": "display_data"
    }
   ],
   "source": [
    "plt.figure(figsize=(15, 7))\n",
    "pl.plot(best_cost_list, label='cost')\n",
    "pl.title(\"Cost vs Epochs\", fontsize=20)\n",
    "plt.tick_params(axis='both', which='major', labelsize=16)\n",
    "plt.show()"
   ]
  },
  {
   "cell_type": "markdown",
   "id": "dee86f7d",
   "metadata": {},
   "source": [
    "Vizualization of model predictions"
   ]
  },
  {
   "cell_type": "code",
   "execution_count": 9,
   "id": "e1be83a5",
   "metadata": {
    "scrolled": false
   },
   "outputs": [
    {
     "data": {
      "image/png": "[encoded data removed]",
      "text/plain": [
       "<Figure size 1080x504 with 1 Axes>"
      ]
     },
     "metadata": {
      "needs_background": "light"
     },
     "output_type": "display_data"
    }
   ],
   "source": [
    "y_log_pred = classificator.predict(X_log_poly)\n",
    "\n",
    "plt.figure(figsize=(15, 7))\n",
    "\n",
    "plt.scatter(X_log[y_log_pred == 1, 0], X_log[y_log_pred == 1, 1], s=100, c='#32CD32', label='Released')\n",
    "plt.scatter(X_log[y_log_pred == 0, 0], X_log[y_log_pred == 0, 1], s=100, c='grey', label='Wasted')\n",
    "plt.scatter(X_log[y_log_pred != y_log, 0], X_log[y_log_pred != y_log, 1], s=100, c='red', label='Model error')\n",
    "\n",
    "plt.xlabel(\"Test 1\", fontsize=16)\n",
    "plt.ylabel(\"Test 2\", fontsize=16)\n",
    "plt.title('Model predictions', fontsize=20)\n",
    "plt.tick_params(axis='both', which='major', labelsize=16)\n",
    "plt.legend(fontsize=16)\n",
    "\n",
    "plt.show()"
   ]
  },
  {
   "cell_type": "markdown",
   "id": "f48441bd",
   "metadata": {},
   "source": [
    "Predictions don't look like overfitted, cost function falls, so that's alright!"
   ]
  },
  {
   "cell_type": "markdown",
   "id": "68b40511",
   "metadata": {},
   "source": [
    "# Time for Linear regressor"
   ]
  },
  {
   "cell_type": "markdown",
   "id": "833960b1",
   "metadata": {},
   "source": [
    "Reading dataset from https://www.kaggle.com/datasets/harinir/petrol-consumption"
   ]
  },
  {
   "cell_type": "code",
   "execution_count": 10,
   "id": "d70ae8c3",
   "metadata": {
    "scrolled": false
   },
   "outputs": [
    {
     "name": "stdout",
     "output_type": "stream",
     "text": [
      "<class 'pandas.core.frame.DataFrame'>\n",
      "RangeIndex: 48 entries, 0 to 47\n",
      "Data columns (total 5 columns):\n",
      " #   Column                        Non-Null Count  Dtype  \n",
      "---  ------                        --------------  -----  \n",
      " 0   Petrol_tax                    48 non-null     float64\n",
      " 1   Average_income                48 non-null     int64  \n",
      " 2   Paved_Highways                48 non-null     int64  \n",
      " 3   Population_Driver_licence(%)  48 non-null     float64\n",
      " 4   Petrol_Consumption            48 non-null     int64  \n",
      "dtypes: float64(2), int64(3)\n",
      "memory usage: 2.0 KB\n"
     ]
    },
    {
     "data": {
      "text/html": [
       "<div>\n",
       "<style scoped>\n",
       "    .dataframe tbody tr th:only-of-type {\n",
       "        vertical-align: middle;\n",
       "    }\n",
       "\n",
       "    .dataframe tbody tr th {\n",
       "        vertical-align: top;\n",
       "    }\n",
       "\n",
       "    .dataframe thead th {\n",
       "        text-align: right;\n",
       "    }\n",
       "</style>\n",
       "<table border=\"1\" class=\"dataframe\">\n",
       "  <thead>\n",
       "    <tr style=\"text-align: right;\">\n",
       "      <th></th>\n",
       "      <th>Petrol_tax</th>\n",
       "      <th>Average_income</th>\n",
       "      <th>Paved_Highways</th>\n",
       "      <th>Population_Driver_licence(%)</th>\n",
       "      <th>Petrol_Consumption</th>\n",
       "    </tr>\n",
       "  </thead>\n",
       "  <tbody>\n",
       "    <tr>\n",
       "      <th>0</th>\n",
       "      <td>9.0</td>\n",
       "      <td>3571</td>\n",
       "      <td>1976</td>\n",
       "      <td>0.525</td>\n",
       "      <td>541</td>\n",
       "    </tr>\n",
       "    <tr>\n",
       "      <th>1</th>\n",
       "      <td>9.0</td>\n",
       "      <td>4092</td>\n",
       "      <td>1250</td>\n",
       "      <td>0.572</td>\n",
       "      <td>524</td>\n",
       "    </tr>\n",
       "    <tr>\n",
       "      <th>2</th>\n",
       "      <td>9.0</td>\n",
       "      <td>3865</td>\n",
       "      <td>1586</td>\n",
       "      <td>0.580</td>\n",
       "      <td>561</td>\n",
       "    </tr>\n",
       "    <tr>\n",
       "      <th>3</th>\n",
       "      <td>7.5</td>\n",
       "      <td>4870</td>\n",
       "      <td>2351</td>\n",
       "      <td>0.529</td>\n",
       "      <td>414</td>\n",
       "    </tr>\n",
       "    <tr>\n",
       "      <th>4</th>\n",
       "      <td>8.0</td>\n",
       "      <td>4399</td>\n",
       "      <td>431</td>\n",
       "      <td>0.544</td>\n",
       "      <td>410</td>\n",
       "    </tr>\n",
       "  </tbody>\n",
       "</table>\n",
       "</div>"
      ],
      "text/plain": [
       "   Petrol_tax  Average_income  Paved_Highways  Population_Driver_licence(%)  \\\n",
       "0         9.0            3571            1976                         0.525   \n",
       "1         9.0            4092            1250                         0.572   \n",
       "2         9.0            3865            1586                         0.580   \n",
       "3         7.5            4870            2351                         0.529   \n",
       "4         8.0            4399             431                         0.544   \n",
       "\n",
       "   Petrol_Consumption  \n",
       "0                 541  \n",
       "1                 524  \n",
       "2                 561  \n",
       "3                 414  \n",
       "4                 410  "
      ]
     },
     "execution_count": 10,
     "metadata": {},
     "output_type": "execute_result"
    }
   ],
   "source": [
    "dataset = pd.read_csv('.data/petrol_consumption.csv')\n",
    "features_columns = ['Petrol_tax', 'Average_income', 'Paved_Highways', 'Population_Driver_licence(%)']\n",
    "target_column = 'Petrol_Consumption'\n",
    "X_lin = dataset[features_columns] \n",
    "y_lin = dataset[target_column]\n",
    "dataset.info()\n",
    "dataset.head()"
   ]
  },
  {
   "cell_type": "markdown",
   "id": "dac892f4",
   "metadata": {},
   "source": [
    "Scaling data"
   ]
  },
  {
   "cell_type": "code",
   "execution_count": 11,
   "id": "d110177c",
   "metadata": {
    "scrolled": false
   },
   "outputs": [
    {
     "data": {
      "text/html": [
       "<div>\n",
       "<style scoped>\n",
       "    .dataframe tbody tr th:only-of-type {\n",
       "        vertical-align: middle;\n",
       "    }\n",
       "\n",
       "    .dataframe tbody tr th {\n",
       "        vertical-align: top;\n",
       "    }\n",
       "\n",
       "    .dataframe thead th {\n",
       "        text-align: right;\n",
       "    }\n",
       "</style>\n",
       "<table border=\"1\" class=\"dataframe\">\n",
       "  <thead>\n",
       "    <tr style=\"text-align: right;\">\n",
       "      <th></th>\n",
       "      <th>Petrol_tax</th>\n",
       "      <th>Average_income</th>\n",
       "      <th>Paved_Highways</th>\n",
       "      <th>Population_Driver_licence(%)</th>\n",
       "    </tr>\n",
       "  </thead>\n",
       "  <tbody>\n",
       "    <tr>\n",
       "      <th>0</th>\n",
       "      <td>1.415441</td>\n",
       "      <td>-1.181841</td>\n",
       "      <td>-1.038921</td>\n",
       "      <td>-0.825903</td>\n",
       "    </tr>\n",
       "    <tr>\n",
       "      <th>1</th>\n",
       "      <td>1.415441</td>\n",
       "      <td>-0.263969</td>\n",
       "      <td>-1.249055</td>\n",
       "      <td>0.030364</td>\n",
       "    </tr>\n",
       "    <tr>\n",
       "      <th>2</th>\n",
       "      <td>1.415441</td>\n",
       "      <td>-0.663887</td>\n",
       "      <td>-1.151803</td>\n",
       "      <td>0.176112</td>\n",
       "    </tr>\n",
       "    <tr>\n",
       "      <th>3</th>\n",
       "      <td>-0.178923</td>\n",
       "      <td>1.106673</td>\n",
       "      <td>-0.930381</td>\n",
       "      <td>-0.753029</td>\n",
       "    </tr>\n",
       "    <tr>\n",
       "      <th>4</th>\n",
       "      <td>0.352532</td>\n",
       "      <td>0.276889</td>\n",
       "      <td>-1.486106</td>\n",
       "      <td>-0.479753</td>\n",
       "    </tr>\n",
       "  </tbody>\n",
       "</table>\n",
       "</div>"
      ],
      "text/plain": [
       "   Petrol_tax  Average_income  Paved_Highways  Population_Driver_licence(%)\n",
       "0    1.415441       -1.181841       -1.038921                     -0.825903\n",
       "1    1.415441       -0.263969       -1.249055                      0.030364\n",
       "2    1.415441       -0.663887       -1.151803                      0.176112\n",
       "3   -0.178923        1.106673       -0.930381                     -0.753029\n",
       "4    0.352532        0.276889       -1.486106                     -0.479753"
      ]
     },
     "execution_count": 11,
     "metadata": {},
     "output_type": "execute_result"
    }
   ],
   "source": [
    "scaler = StandardScaler()\n",
    "scaler.fit(X_lin)\n",
    "X_lin_scaled = scaler.transform(X_lin)\n",
    "pd.DataFrame(X_lin_scaled, columns=features_columns).head()"
   ]
  },
  {
   "cell_type": "markdown",
   "id": "a8d1a08b",
   "metadata": {},
   "source": [
    "Splitting data on features and targets"
   ]
  },
  {
   "cell_type": "code",
   "execution_count": 12,
   "id": "4a5b1fce",
   "metadata": {},
   "outputs": [],
   "source": [
    "X_train, X_test, y_train, y_test = train_test_split(X_lin_scaled, y_lin, test_size=0.2, random_state=0)"
   ]
  },
  {
   "cell_type": "markdown",
   "id": "4f6b73b5",
   "metadata": {},
   "source": [
    "Checking Linear Regression works"
   ]
  },
  {
   "cell_type": "code",
   "execution_count": 13,
   "id": "0282d6af",
   "metadata": {},
   "outputs": [],
   "source": [
    "regressor = LinLogRegression(X_train, y_train, mode='lin')\n",
    "cost_list = regressor.fit(0.0001, 0.1, 2000)"
   ]
  },
  {
   "cell_type": "markdown",
   "id": "95376873",
   "metadata": {},
   "source": [
    "Fine! Custom Grid Search is again"
   ]
  },
  {
   "cell_type": "code",
   "execution_count": 14,
   "id": "a522119e",
   "metadata": {},
   "outputs": [
    {
     "name": "stdout",
     "output_type": "stream",
     "text": [
      "The lowest MSE is 4630.833 with learning rate: 0.0001, thetha for L2-regularization: 0.1 and on 5000 epochs\n"
     ]
    }
   ],
   "source": [
    "params = {'lr': [0.01, 0.001, 0.0001], 'theta': [0.1, 0.01, 0.001, 0.0001], \n",
    "          'epochs': [100, 500, 1000, 5000, 10000]}\n",
    "best_score = 0\n",
    "best_classificator = None\n",
    "best_cost_list = None\n",
    "for i in range(30):\n",
    "    current_params = [random.choice(params[param]) for param in params.keys()]\n",
    "    \n",
    "    regressor = LinLogRegression(X_train, y_train, mode='lin')\n",
    "    cost_list = regressor.fit(current_params[0], current_params[1], current_params[2])\n",
    "\n",
    "    y_lin_pred = regressor.predict(X_test)\n",
    "    MSE = metrics.mean_squared_error(y_test, y_lin_pred)\n",
    "    \n",
    "    if i == 0:\n",
    "        best_score = MSE\n",
    "    elif MSE < best_score:\n",
    "        best_score = MSE\n",
    "        best_params_lin = current_params\n",
    "        best_regressor = regressor\n",
    "        best_cost_list =  cost_list\n",
    "        y_lin_pred_best = y_lin_pred\n",
    "\n",
    "print(f\"The lowest MSE is {round(best_score, 3)} with learning rate: {best_params_lin[0]}, \\\n",
    "thetha for L2-regularization: {best_params_lin[1]} and on {best_params_lin[2]} epochs\")"
   ]
  },
  {
   "cell_type": "markdown",
   "id": "3f2cee3c",
   "metadata": {},
   "source": [
    "Let's look at the result and trained weights"
   ]
  },
  {
   "cell_type": "code",
   "execution_count": 15,
   "id": "87e29133",
   "metadata": {},
   "outputs": [
    {
     "data": {
      "text/html": [
       "<div>\n",
       "<style scoped>\n",
       "    .dataframe tbody tr th:only-of-type {\n",
       "        vertical-align: middle;\n",
       "    }\n",
       "\n",
       "    .dataframe tbody tr th {\n",
       "        vertical-align: top;\n",
       "    }\n",
       "\n",
       "    .dataframe thead th {\n",
       "        text-align: right;\n",
       "    }\n",
       "</style>\n",
       "<table border=\"1\" class=\"dataframe\">\n",
       "  <thead>\n",
       "    <tr style=\"text-align: right;\">\n",
       "      <th></th>\n",
       "      <th>Actual</th>\n",
       "      <th>Predicted</th>\n",
       "      <th>Difference</th>\n",
       "    </tr>\n",
       "  </thead>\n",
       "  <tbody>\n",
       "    <tr>\n",
       "      <th>29</th>\n",
       "      <td>534</td>\n",
       "      <td>469.794788</td>\n",
       "      <td>64.205212</td>\n",
       "    </tr>\n",
       "    <tr>\n",
       "      <th>4</th>\n",
       "      <td>410</td>\n",
       "      <td>545.017972</td>\n",
       "      <td>-135.017972</td>\n",
       "    </tr>\n",
       "    <tr>\n",
       "      <th>26</th>\n",
       "      <td>577</td>\n",
       "      <td>589.498969</td>\n",
       "      <td>-12.498969</td>\n",
       "    </tr>\n",
       "    <tr>\n",
       "      <th>30</th>\n",
       "      <td>571</td>\n",
       "      <td>569.252368</td>\n",
       "      <td>1.747632</td>\n",
       "    </tr>\n",
       "    <tr>\n",
       "      <th>32</th>\n",
       "      <td>577</td>\n",
       "      <td>649.642373</td>\n",
       "      <td>-72.642373</td>\n",
       "    </tr>\n",
       "    <tr>\n",
       "      <th>37</th>\n",
       "      <td>704</td>\n",
       "      <td>646.102805</td>\n",
       "      <td>57.897195</td>\n",
       "    </tr>\n",
       "    <tr>\n",
       "      <th>34</th>\n",
       "      <td>487</td>\n",
       "      <td>511.224216</td>\n",
       "      <td>-24.224216</td>\n",
       "    </tr>\n",
       "    <tr>\n",
       "      <th>40</th>\n",
       "      <td>587</td>\n",
       "      <td>671.818425</td>\n",
       "      <td>-84.818425</td>\n",
       "    </tr>\n",
       "    <tr>\n",
       "      <th>7</th>\n",
       "      <td>467</td>\n",
       "      <td>501.892297</td>\n",
       "      <td>-34.892297</td>\n",
       "    </tr>\n",
       "    <tr>\n",
       "      <th>10</th>\n",
       "      <td>580</td>\n",
       "      <td>501.454226</td>\n",
       "      <td>78.545774</td>\n",
       "    </tr>\n",
       "  </tbody>\n",
       "</table>\n",
       "</div>"
      ],
      "text/plain": [
       "    Actual   Predicted  Difference\n",
       "29     534  469.794788   64.205212\n",
       "4      410  545.017972 -135.017972\n",
       "26     577  589.498969  -12.498969\n",
       "30     571  569.252368    1.747632\n",
       "32     577  649.642373  -72.642373\n",
       "37     704  646.102805   57.897195\n",
       "34     487  511.224216  -24.224216\n",
       "40     587  671.818425  -84.818425\n",
       "7      467  501.892297  -34.892297\n",
       "10     580  501.454226   78.545774"
      ]
     },
     "execution_count": 15,
     "metadata": {},
     "output_type": "execute_result"
    }
   ],
   "source": [
    "pd.DataFrame({'Actual': y_test, 'Predicted': y_lin_pred_best, 'Difference': y_test-y_lin_pred_best}) "
   ]
  },
  {
   "cell_type": "code",
   "execution_count": 16,
   "id": "9b60c653",
   "metadata": {},
   "outputs": [
    {
     "data": {
      "image/png": "[encoded data removed]",
      "text/plain": [
       "<Figure size 1080x504 with 1 Axes>"
      ]
     },
     "metadata": {
      "needs_background": "light"
     },
     "output_type": "display_data"
    }
   ],
   "source": [
    "plt.figure(figsize=(15, 7))\n",
    "plt.plot(best_cost_list, label='cost')\n",
    "plt.title(\"Cost vs Epochs\", fontsize=20)\n",
    "plt.tick_params(axis='both', which='major', labelsize=16)\n",
    "plt.show()"
   ]
  },
  {
   "cell_type": "code",
   "execution_count": 17,
   "id": "49cb3526",
   "metadata": {
    "scrolled": true
   },
   "outputs": [
    {
     "name": "stdout",
     "output_type": "stream",
     "text": [
      "Bias is 580.0538509781109\n"
     ]
    },
    {
     "data": {
      "text/html": [
       "<div>\n",
       "<style scoped>\n",
       "    .dataframe tbody tr th:only-of-type {\n",
       "        vertical-align: middle;\n",
       "    }\n",
       "\n",
       "    .dataframe tbody tr th {\n",
       "        vertical-align: top;\n",
       "    }\n",
       "\n",
       "    .dataframe thead th {\n",
       "        text-align: right;\n",
       "    }\n",
       "</style>\n",
       "<table border=\"1\" class=\"dataframe\">\n",
       "  <thead>\n",
       "    <tr style=\"text-align: right;\">\n",
       "      <th></th>\n",
       "      <th>weights</th>\n",
       "    </tr>\n",
       "  </thead>\n",
       "  <tbody>\n",
       "    <tr>\n",
       "      <th>Petrol_tax</th>\n",
       "      <td>-37.081904</td>\n",
       "    </tr>\n",
       "    <tr>\n",
       "      <th>Average_income</th>\n",
       "      <td>-36.971652</td>\n",
       "    </tr>\n",
       "    <tr>\n",
       "      <th>Paved_Highways</th>\n",
       "      <td>-15.874806</td>\n",
       "    </tr>\n",
       "    <tr>\n",
       "      <th>Population_Driver_licence(%)</th>\n",
       "      <td>73.617024</td>\n",
       "    </tr>\n",
       "  </tbody>\n",
       "</table>\n",
       "</div>"
      ],
      "text/plain": [
       "                                weights\n",
       "Petrol_tax                   -37.081904\n",
       "Average_income               -36.971652\n",
       "Paved_Highways               -15.874806\n",
       "Population_Driver_licence(%)  73.617024"
      ]
     },
     "execution_count": 17,
     "metadata": {},
     "output_type": "execute_result"
    }
   ],
   "source": [
    "print(f'Bias is {best_regressor.get_weights()[1]}')\n",
    "pd.DataFrame(best_regressor.get_weights()[0], index=features_columns, columns=['weights'])"
   ]
  },
  {
   "cell_type": "markdown",
   "id": "c3a063ec",
   "metadata": {},
   "source": [
    "# And let's repeat everything on torch"
   ]
  },
  {
   "cell_type": "code",
   "execution_count": 20,
   "id": "76da87d6",
   "metadata": {
    "scrolled": false
   },
   "outputs": [],
   "source": [
    "class LinLogRegressionTorch(torch.nn.Module):\n",
    "    \"\"\"\n",
    "    Class for both Linear and Logistic Regressions on TORCH. It's needed to choose mode - \"lin\" or \"log\".\n",
    "    Linear Regression: multipule regressor with L2-regularization.\n",
    "        Data: X - standart scaled torch.Tensor with shape (n_features, batch_size), \n",
    "              y - target torch.Tensor with shape (batch_size)\n",
    "        Predict: REGRESSOR, float64\n",
    "    LogistiC regression: binary classificator with L2-regularization.\n",
    "        Data: X - torch.Tensor data with shape (1+n_features, batch_size), bias should be included, \n",
    "              y - torch.Tensor target with shape (batch_size)\n",
    "        Predict: CLASSIFICATION, bool \n",
    "        \n",
    "    \"\"\"\n",
    "    def __init__(self, input_dim, output_dim, mode=None):\n",
    "        super(LinLogRegressionTorch, self).__init__()\n",
    "        if mode:\n",
    "            self.mode = mode\n",
    "        else:\n",
    "            raise ValueError('Choose \"lin\" or \"log\" mode')\n",
    "        self.linear = torch.nn.Linear(input_dim, output_dim)\n",
    "        \n",
    "    def forward(self, X):\n",
    "        if self.mode == 'lin':\n",
    "            outputs = self.linear(X)\n",
    "        else:\n",
    "            outputs = torch.sigmoid(self.linear(X))\n",
    "        return outputs\n",
    "    \n",
    "    def predict(self, X):\n",
    "        with torch.no_grad():\n",
    "            if self.mode == 'log':\n",
    "                t = torch.Tensor([0.5]) # threshold\n",
    "                outputs = (self.forward(X) > t).float() * 1\n",
    "                return outputs\n",
    "            else:\n",
    "                return self.forward(X)"
   ]
  },
  {
   "cell_type": "code",
   "execution_count": 24,
   "id": "96bc1854",
   "metadata": {},
   "outputs": [],
   "source": [
    "def train_torch(X, y, criterion, optimizer, epochs, mode=None):\n",
    "    if not mode:\n",
    "        raise ValueError('Choose \"lin\" or \"log\" mode')\n",
    "    losses = []\n",
    "    losses_test = []\n",
    "    Iterations = []\n",
    "    accuracies = []\n",
    "    iter = 0\n",
    "    for epoch in range(epochs):\n",
    "        optimizer.zero_grad() # Setting our stored gradients equal to zero\n",
    "        outputs = model(X)\n",
    "        loss = criterion(torch.squeeze(outputs), y) \n",
    "\n",
    "        loss.backward() # Computes the gradient of the given tensor\n",
    "\n",
    "        optimizer.step() # Updates weights and biases with the optimizer \n",
    "        \n",
    "        iter+=1\n",
    "        # calculate Accuracy\n",
    "        with torch.no_grad():\n",
    "            if mode=='log':\n",
    "                # Calculating the loss and accuracy for the train dataset\n",
    "                total = 0\n",
    "                correct = 0\n",
    "                total += y.size(0)\n",
    "                correct += np.sum(torch.squeeze(outputs).round().detach().numpy() == y.detach().numpy())\n",
    "                accuracy = correct/total\n",
    "\n",
    "                accuracies.append(accuracy)\n",
    "                losses.append(loss.item())\n",
    "                Iterations.append(iter)\n",
    "            else:\n",
    "                losses.append(loss.item())\n",
    "                Iterations.append(iter)\n",
    "                    \n",
    "    return losses, accuracies, Iterations"
   ]
  },
  {
   "cell_type": "markdown",
   "id": "f871a6f3",
   "metadata": {},
   "source": [
    "Logistic regression on torch"
   ]
  },
  {
   "cell_type": "code",
   "execution_count": 27,
   "id": "144b04ec",
   "metadata": {},
   "outputs": [],
   "source": [
    "epochs = 10000\n",
    "\n",
    "poly = PolynomialFeatures(degree=8)\n",
    "X_log_poly = poly.fit_transform(X_log)\n",
    "X_log_poly, y_log = torch.Tensor(X_log_poly), torch.Tensor(y_log)\n",
    "\n",
    "input_dim = X_log_poly.shape[1]\n",
    "output_dim = 1\n",
    "\n",
    "model = LinLogRegressionTorch(input_dim, output_dim, mode='log')\n",
    "criterion = torch.nn.BCELoss()\n",
    "optimizer = torch.optim.SGD(model.parameters(), lr=1e-2, weight_decay=1e-2)\n",
    "\n",
    "losses, accuracies, Iterations = train_torch(X_log_poly, y_log, criterion, optimizer, epochs, mode='log')\n"
   ]
  },
  {
   "cell_type": "code",
   "execution_count": 28,
   "id": "32fc794f",
   "metadata": {
    "scrolled": false
   },
   "outputs": [
    {
     "data": {
      "image/png": "[encoded data removed]",
      "text/plain": [
       "<Figure size 1080x504 with 1 Axes>"
      ]
     },
     "metadata": {
      "needs_background": "light"
     },
     "output_type": "display_data"
    }
   ],
   "source": [
    "plt.figure(figsize=(15, 7))\n",
    "plt.plot(Iterations, losses, label='cost')\n",
    "plt.plot(Iterations,  accuracies, label='Accuracy')\n",
    "plt.title(\"Accuracy / Cost vs Epochs\", fontsize=20)\n",
    "plt.xlabel('Epochs', fontsize=16)\n",
    "plt.tick_params(axis='both', which='major', labelsize=16)\n",
    "plt.legend(fontsize=16)\n",
    "plt.show()"
   ]
  },
  {
   "cell_type": "markdown",
   "id": "79a1fb91",
   "metadata": {},
   "source": [
    "Let's vizualize model's errors"
   ]
  },
  {
   "cell_type": "code",
   "execution_count": 29,
   "id": "e95e6c9d",
   "metadata": {},
   "outputs": [
    {
     "data": {
      "image/png": "[encoded data removed]",
      "text/plain": [
       "<Figure size 1080x504 with 1 Axes>"
      ]
     },
     "metadata": {
      "needs_background": "light"
     },
     "output_type": "display_data"
    }
   ],
   "source": [
    "y_log_pred = np.reshape(model.predict(X_log_poly), (y_log_pred.shape[0],))\n",
    "\n",
    "plt.figure(figsize=(15, 7))\n",
    "\n",
    "plt.scatter(X_log[y_log_pred == 1, 0], X_log[y_log_pred == 1, 1], s=100, c='#32CD32', label='Released')\n",
    "plt.scatter(X_log[y_log_pred == 0, 0], X_log[y_log_pred == 0, 1], s=100, c='grey', label='Wasted')\n",
    "plt.scatter(X_log[y_log_pred != y_log, 0], X_log[y_log_pred != y_log, 1], s=100, c='red', label='Model error')\n",
    "\n",
    "plt.xlabel(\"Test 1\", fontsize=16)\n",
    "plt.ylabel(\"Test 2\", fontsize=16)\n",
    "plt.title('Model predictions', fontsize=20)\n",
    "plt.tick_params(axis='both', which='major', labelsize=16)\n",
    "plt.legend(fontsize=16)\n",
    "\n",
    "plt.show()"
   ]
  },
  {
   "cell_type": "markdown",
   "id": "8acb0601",
   "metadata": {},
   "source": [
    "It looks the same with manual realization. Let's realize Linear regression on torch"
   ]
  },
  {
   "cell_type": "code",
   "execution_count": 30,
   "id": "6a2940a4",
   "metadata": {},
   "outputs": [],
   "source": [
    "epochs = 5000\n",
    "\n",
    "X_lin_scaled, y_lin = torch.Tensor(X_lin_scaled), torch.Tensor(y_lin)\n",
    "\n",
    "input_dim = X_lin_scaled.shape[1]\n",
    "output_dim = 1\n",
    "\n",
    "model = LinLogRegressionTorch(input_dim, output_dim, mode='lin')\n",
    "criterion = torch.nn.MSELoss()\n",
    "optimizer = torch.optim.SGD(model.parameters(), lr=0.01, weight_decay=0.01)\n",
    "\n",
    "losses, _, Iterations = train_torch(X_lin_scaled, y_lin, criterion, optimizer, epochs, mode='lin')"
   ]
  },
  {
   "cell_type": "code",
   "execution_count": 31,
   "id": "86328dfd",
   "metadata": {},
   "outputs": [
    {
     "data": {
      "image/png": "[encoded data removed]",
      "text/plain": [
       "<Figure size 1080x504 with 1 Axes>"
      ]
     },
     "metadata": {
      "needs_background": "light"
     },
     "output_type": "display_data"
    }
   ],
   "source": [
    "plt.figure(figsize=(15, 7))\n",
    "plt.plot(Iterations, losses, label='cost')\n",
    "plt.title(\"MSE vs Epochs\", fontsize=20)\n",
    "plt.xlabel('Epochs', fontsize=16)\n",
    "plt.ylabel('MSE', fontsize=16)\n",
    "plt.tick_params(axis='both', which='major', labelsize=16)\n",
    "plt.show()"
   ]
  },
  {
   "cell_type": "code",
   "execution_count": 44,
   "id": "89da153d",
   "metadata": {},
   "outputs": [
    {
     "data": {
      "text/html": [
       "<div>\n",
       "<style scoped>\n",
       "    .dataframe tbody tr th:only-of-type {\n",
       "        vertical-align: middle;\n",
       "    }\n",
       "\n",
       "    .dataframe tbody tr th {\n",
       "        vertical-align: top;\n",
       "    }\n",
       "\n",
       "    .dataframe thead th {\n",
       "        text-align: right;\n",
       "    }\n",
       "</style>\n",
       "<table border=\"1\" class=\"dataframe\">\n",
       "  <thead>\n",
       "    <tr style=\"text-align: right;\">\n",
       "      <th></th>\n",
       "      <th>Actual</th>\n",
       "      <th>Predicted</th>\n",
       "      <th>Difference</th>\n",
       "    </tr>\n",
       "  </thead>\n",
       "  <tbody>\n",
       "    <tr>\n",
       "      <th>0</th>\n",
       "      <td>534.0</td>\n",
       "      <td>469.463135</td>\n",
       "      <td>64.536865</td>\n",
       "    </tr>\n",
       "    <tr>\n",
       "      <th>1</th>\n",
       "      <td>410.0</td>\n",
       "      <td>529.369019</td>\n",
       "      <td>-119.369019</td>\n",
       "    </tr>\n",
       "    <tr>\n",
       "      <th>2</th>\n",
       "      <td>577.0</td>\n",
       "      <td>585.614319</td>\n",
       "      <td>-8.614319</td>\n",
       "    </tr>\n",
       "    <tr>\n",
       "      <th>3</th>\n",
       "      <td>571.0</td>\n",
       "      <td>564.103455</td>\n",
       "      <td>6.896545</td>\n",
       "    </tr>\n",
       "    <tr>\n",
       "      <th>4</th>\n",
       "      <td>577.0</td>\n",
       "      <td>648.256287</td>\n",
       "      <td>-71.256287</td>\n",
       "    </tr>\n",
       "    <tr>\n",
       "      <th>5</th>\n",
       "      <td>704.0</td>\n",
       "      <td>638.764099</td>\n",
       "      <td>65.235901</td>\n",
       "    </tr>\n",
       "    <tr>\n",
       "      <th>6</th>\n",
       "      <td>487.0</td>\n",
       "      <td>503.814941</td>\n",
       "      <td>-16.814941</td>\n",
       "    </tr>\n",
       "    <tr>\n",
       "      <th>7</th>\n",
       "      <td>587.0</td>\n",
       "      <td>659.639832</td>\n",
       "      <td>-72.639832</td>\n",
       "    </tr>\n",
       "    <tr>\n",
       "      <th>8</th>\n",
       "      <td>467.0</td>\n",
       "      <td>489.118256</td>\n",
       "      <td>-22.118256</td>\n",
       "    </tr>\n",
       "    <tr>\n",
       "      <th>9</th>\n",
       "      <td>580.0</td>\n",
       "      <td>497.992249</td>\n",
       "      <td>82.007751</td>\n",
       "    </tr>\n",
       "  </tbody>\n",
       "</table>\n",
       "</div>"
      ],
      "text/plain": [
       "   Actual   Predicted  Difference\n",
       "0   534.0  469.463135   64.536865\n",
       "1   410.0  529.369019 -119.369019\n",
       "2   577.0  585.614319   -8.614319\n",
       "3   571.0  564.103455    6.896545\n",
       "4   577.0  648.256287  -71.256287\n",
       "5   704.0  638.764099   65.235901\n",
       "6   487.0  503.814941  -16.814941\n",
       "7   587.0  659.639832  -72.639832\n",
       "8   467.0  489.118256  -22.118256\n",
       "9   580.0  497.992249   82.007751"
      ]
     },
     "execution_count": 44,
     "metadata": {},
     "output_type": "execute_result"
    }
   ],
   "source": [
    "y_lin_pred_torch = torch.reshape(model.predict(torch.Tensor(X_test)), (y_test.shape[0],))\n",
    "pd.DataFrame({'Actual': torch.Tensor(np.array(y_test)), 'Predicted': y_lin_pred_torch, 'Difference': torch.Tensor(np.array(y_test)) - y_lin_pred_torch}) "
   ]
  },
  {
   "cell_type": "code",
   "execution_count": 64,
   "id": "794d6652",
   "metadata": {
    "scrolled": true
   },
   "outputs": [
    {
     "name": "stdout",
     "output_type": "stream",
     "text": [
      "Mean squared error for Linear Regression on torch is 4064.26953125\n"
     ]
    }
   ],
   "source": [
    "y_lin_pred_torch = np.reshape(model.predict(torch.Tensor(X_test)), (y_test.shape[0],))\n",
    "MSE = metrics.mean_squared_error(torch.Tensor(np.array(y_test)), y_lin_pred_torch)\n",
    "print(f'Mean squared error for Linear Regression on torch is {MSE}')"
   ]
  },
  {
   "cell_type": "code",
   "execution_count": 59,
   "id": "9ed6d8d8",
   "metadata": {
    "scrolled": true
   },
   "outputs": [
    {
     "name": "stdout",
     "output_type": "stream",
     "text": [
      "Bias is 573.8998413085938\n"
     ]
    },
    {
     "data": {
      "text/html": [
       "<div>\n",
       "<style scoped>\n",
       "    .dataframe tbody tr th:only-of-type {\n",
       "        vertical-align: middle;\n",
       "    }\n",
       "\n",
       "    .dataframe tbody tr th {\n",
       "        vertical-align: top;\n",
       "    }\n",
       "\n",
       "    .dataframe thead th {\n",
       "        text-align: right;\n",
       "    }\n",
       "</style>\n",
       "<table border=\"1\" class=\"dataframe\">\n",
       "  <thead>\n",
       "    <tr style=\"text-align: right;\">\n",
       "      <th></th>\n",
       "      <th>weights</th>\n",
       "    </tr>\n",
       "  </thead>\n",
       "  <tbody>\n",
       "    <tr>\n",
       "      <th>Petrol_tax</th>\n",
       "      <td>-32.657585</td>\n",
       "    </tr>\n",
       "    <tr>\n",
       "      <th>Average_income</th>\n",
       "      <td>-37.552555</td>\n",
       "    </tr>\n",
       "    <tr>\n",
       "      <th>Paved_Highways</th>\n",
       "      <td>-8.337888</td>\n",
       "    </tr>\n",
       "    <tr>\n",
       "      <th>Population_Driver_licence(%)</th>\n",
       "      <td>72.977409</td>\n",
       "    </tr>\n",
       "  </tbody>\n",
       "</table>\n",
       "</div>"
      ],
      "text/plain": [
       "                                weights\n",
       "Petrol_tax                   -32.657585\n",
       "Average_income               -37.552555\n",
       "Paved_Highways                -8.337888\n",
       "Population_Driver_licence(%)  72.977409"
      ]
     },
     "execution_count": 59,
     "metadata": {},
     "output_type": "execute_result"
    }
   ],
   "source": [
    "print(f'Bias is {float(model.linear.bias.detach()[0])}')\n",
    "pd.DataFrame([float(i) for i in model.linear.weight.detach()[0]], index=features_columns, columns=['weights'])\n"
   ]
  },
  {
   "cell_type": "code",
   "execution_count": null,
   "id": "0c483d3f",
   "metadata": {},
   "outputs": [],
   "source": []
  }
 ],
 "metadata": {
  "kernelspec": {
   "display_name": "Python 3",
   "language": "python",
   "name": "python3"
  },
  "language_info": {
   "codemirror_mode": {
    "name": "ipython",
    "version": 3
   },
   "file_extension": ".py",
   "mimetype": "text/x-python",
   "name": "python",
   "nbconvert_exporter": "python",
   "pygments_lexer": "ipython3",
   "version": "3.7.10"
  }
 },
 "nbformat": 4,
 "nbformat_minor": 5
}
